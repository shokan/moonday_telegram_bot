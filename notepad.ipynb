{
 "cells": [
  {
   "cell_type": "code",
   "execution_count": 3,
   "metadata": {},
   "outputs": [],
   "source": [
    "import pandas as pd\n",
    "import requests as req\n",
    "import datetime as dt\n",
    "import telegram\n",
    "import secret"
   ]
  },
  {
   "cell_type": "code",
   "execution_count": 6,
   "metadata": {},
   "outputs": [],
   "source": [
    "api_url='https://api.worldweatheronline.com/premium/v1/weather.ashx?q=Astana&num_of_days=2&key={}&format=json&date=tomorrow'.format(secret.tokens['weather_api'])"
   ]
  },
  {
   "cell_type": "code",
   "execution_count": 7,
   "metadata": {},
   "outputs": [
    {
     "name": "stdout",
     "output_type": "stream",
     "text": [
      "https://api.worldweatheronline.com/premium/v1/weather.ashx?q=Astana&num_of_days=2&key=219d16ad359b4bccadf161613190110&format=json&date=tomorrow\n"
     ]
    }
   ],
   "source": [
    "print(api_url)"
   ]
  },
  {
   "cell_type": "code",
   "execution_count": 109,
   "metadata": {},
   "outputs": [],
   "source": [
    "resp = req.get(api_url)\n",
    "data = resp.json()\n",
    "tomorrow_date = data['data']['weather'][0]['date']"
   ]
  },
  {
   "cell_type": "code",
   "execution_count": 105,
   "metadata": {},
   "outputs": [],
   "source": [
    "maxtempC = data['data']['weather'][0]['maxtempC']\n",
    "mintempC = data['data']['weather'][0]['mintempC']\n",
    "totalSnow_cm = data['data']['weather'][0]['totalSnow_cm']"
   ]
  },
  {
   "cell_type": "code",
   "execution_count": 107,
   "metadata": {},
   "outputs": [],
   "source": [
    "sunrise = data['data']['weather'][0]['astronomy'][0]['sunrise']\n",
    "sunset = data['data']['weather'][0]['astronomy'][0]['sunset']\n",
    "moon_phase = data['data']['weather'][0]['astronomy'][0]['moon_phase']"
   ]
  },
  {
   "cell_type": "code",
   "execution_count": 151,
   "metadata": {},
   "outputs": [],
   "source": [
    "def phase_translate(ph):\n",
    "    phases = {'New Moon': 'Новолуние', 'Waxing Crescent': 'Молодая луна ', 'First Quarter': 'Первая четверть', 'Waxing Gibbous': 'Прибывающая луна', 'Full Moon': 'Полнолуние', 'Waning Gibbous': 'Убывающая луна', 'Last Quarter': 'Последняя четверть ', 'Waning Crescent': 'Старая луна'}\n",
    "    return phases[ph]"
   ]
  },
  {
   "cell_type": "code",
   "execution_count": 156,
   "metadata": {},
   "outputs": [],
   "source": [
    "messege_text = \"\"\"Привет! Завтра ({}) температура воздуха будет колебаться от {} С до {} С. Время заката в {} время восхода в {}. Фаза луны: {}.\"\"\".format(tomorrow_date, mintempC, maxtempC, sunrise, sunset, phase_translate(moon_phase))"
   ]
  },
  {
   "cell_type": "code",
   "execution_count": 8,
   "metadata": {},
   "outputs": [],
   "source": [
    "bot = telegram.Bot(token=secret.tokens['telegram'])"
   ]
  },
  {
   "cell_type": "code",
   "execution_count": 9,
   "metadata": {},
   "outputs": [
    {
     "data": {
      "text/plain": [
       "<telegram.message.Message at 0x122f7db70>"
      ]
     },
     "execution_count": 9,
     "metadata": {},
     "output_type": "execute_result"
    }
   ],
   "source": [
    "bot.send_message(chat_id='@AhimsaInfo', text=\"Hope you are ok. Good nignt. Your akhimsa bot!\")"
   ]
  },
  {
   "cell_type": "code",
   "execution_count": null,
   "metadata": {},
   "outputs": [],
   "source": []
  }
 ],
 "metadata": {
  "kernelspec": {
   "display_name": "Python 3",
   "language": "python",
   "name": "python3"
  },
  "language_info": {
   "codemirror_mode": {
    "name": "ipython",
    "version": 3
   },
   "file_extension": ".py",
   "mimetype": "text/x-python",
   "name": "python",
   "nbconvert_exporter": "python",
   "pygments_lexer": "ipython3",
   "version": "3.7.3"
  }
 },
 "nbformat": 4,
 "nbformat_minor": 2
}

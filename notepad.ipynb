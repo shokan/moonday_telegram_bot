{
 "cells": [
  {
   "cell_type": "code",
   "execution_count": 111,
   "metadata": {},
   "outputs": [],
   "source": [
    "import pandas as pd\n",
    "import requests as req\n",
    "import datetime as dt\n",
    "import telegram\n",
    "import secret"
   ]
  },
  {
   "cell_type": "code",
   "execution_count": 112,
   "metadata": {},
   "outputs": [],
   "source": [
    "api_url='https://api.worldweatheronline.com/premium/v1/weather.ashx?q=Astana&num_of_days=2&key={}&format=json&date=tomorrow'.format(secret.tokens['weather_api'])"
   ]
  },
  {
   "cell_type": "code",
   "execution_count": 113,
   "metadata": {},
   "outputs": [
    {
     "name": "stdout",
     "output_type": "stream",
     "text": [
      "https://api.worldweatheronline.com/premium/v1/weather.ashx?q=Astana&num_of_days=2&key=219d16ad359b4bccadf161613190110&format=json&date=tomorrow\n"
     ]
    }
   ],
   "source": [
    "print(api_url)"
   ]
  },
  {
   "cell_type": "code",
   "execution_count": 109,
   "metadata": {},
   "outputs": [],
   "source": [
    "resp = req.get(api_url)\n",
    "data = resp.json()\n",
    "tomorrow_date = data['data']['weather'][0]['date']"
   ]
  },
  {
   "cell_type": "code",
   "execution_count": 105,
   "metadata": {},
   "outputs": [],
   "source": [
    "maxtempC = data['data']['weather'][0]['maxtempC']\n",
    "mintempC = data['data']['weather'][0]['mintempC']\n",
    "totalSnow_cm = data['data']['weather'][0]['totalSnow_cm']"
   ]
  },
  {
   "cell_type": "code",
   "execution_count": 107,
   "metadata": {},
   "outputs": [],
   "source": [
    "sunrise = data['data']['weather'][0]['astronomy'][0]['sunrise']\n",
    "sunset = data['data']['weather'][0]['astronomy'][0]['sunset']\n",
    "moon_phase = data['data']['weather'][0]['astronomy'][0]['moon_phase']"
   ]
  },
  {
   "cell_type": "code",
   "execution_count": 151,
   "metadata": {},
   "outputs": [],
   "source": [
    "def phase_translate(ph):\n",
    "    phases = {'New Moon': 'Новолуние', 'Waxing Crescent': 'Молодая луна ', 'First Quarter': 'Первая четверть', 'Waxing Gibbous': 'Прибывающая луна', 'Full Moon': 'Полнолуние', 'Waning Gibbous': 'Убывающая луна', 'Last Quarter': 'Последняя четверть ', 'Waning Crescent': 'Старая луна'}\n",
    "    return phases[ph]"
   ]
  },
  {
   "cell_type": "code",
   "execution_count": 156,
   "metadata": {},
   "outputs": [],
   "source": [
    "messege_text = \"\"\"Привет! Завтра ({}) температура воздуха будет колебаться от {} С до {} С. Время заката в {} время восхода в {}. Фаза луны: {}.\"\"\".format(tomorrow_date, mintempC, maxtempC, sunrise, sunset, phase_translate(moon_phase))"
   ]
  },
  {
   "cell_type": "code",
   "execution_count": 8,
   "metadata": {},
   "outputs": [],
   "source": [
    "bot = telegram.Bot(token=secret.tokens['telegram'])"
   ]
  },
  {
   "cell_type": "code",
   "execution_count": 9,
   "metadata": {},
   "outputs": [
    {
     "data": {
      "text/plain": [
       "<telegram.message.Message at 0x122f7db70>"
      ]
     },
     "execution_count": 9,
     "metadata": {},
     "output_type": "execute_result"
    }
   ],
   "source": [
    "bot.send_message(chat_id='@AhimsaInfo', text=\"Hope you are ok. Good nignt. Your akhimsa bot!\")"
   ]
  },
  {
   "cell_type": "markdown",
   "metadata": {},
   "source": [
    "The second option of detecting a full moon day\n",
    "https://sharathyogacentre.com/holidays/"
   ]
  },
  {
   "cell_type": "code",
   "execution_count": 182,
   "metadata": {},
   "outputs": [],
   "source": [
    "def next_holiday():\n",
    "    df = pd.read_csv(\"ashanga_holidays_2019_2020.csv\", header=0, index_col=False, parse_dates=[0])\n",
    "    d = dt.date.today()\n",
    "    for i in df.new_date:\n",
    "        if i.date()<d:\n",
    "            pass\n",
    "        else:\n",
    "            next_day = i.date()\n",
    "            delta = next_day - d\n",
    "            break\n",
    "            \n",
    "    if delta.days == 0:\n",
    "        next_text = '' \n",
    "    elif delta.days == 1:\n",
    "        next_text = 'Завтра отдыхаем! Высыпаемся и наслаждаемся круасанами ;)'\n",
    "    elif  delta.days in (2, 3, 4):\n",
    "        next_text = 'Следующие выходные через {} дня'.format(delta.days)\n",
    "    else:\n",
    "        next_text = 'Следующие выходные через {} дней'.format(delta.days)\n",
    "    return next_text"
   ]
  },
  {
   "cell_type": "code",
   "execution_count": 183,
   "metadata": {},
   "outputs": [
    {
     "data": {
      "text/plain": [
       "'Следующие выходные через 3 дня'"
      ]
     },
     "execution_count": 183,
     "metadata": {},
     "output_type": "execute_result"
    }
   ],
   "source": [
    "next_holiday()"
   ]
  },
  {
   "cell_type": "code",
   "execution_count": 169,
   "metadata": {},
   "outputs": [],
   "source": [
    "import pandas as pd\n",
    "import requests as req\n",
    "import datetime as dt\n",
    "import telegram\n",
    "import secret"
   ]
  },
  {
   "cell_type": "code",
   "execution_count": 173,
   "metadata": {},
   "outputs": [],
   "source": [
    "api_url='https://api.worldweatheronline.com/premium/v1/weather.ashx?q=Astana&num_of_days=2&key={}&format=json&date=tomorrow'.format(secret.tokens['weather_api'])\n",
    "bot = telegram.Bot(token=secret.tokens['telegram'])\n",
    "\n",
    "resp = req.get(api_url)\n",
    "data = resp.json()\n",
    "tomorrow_date = data['data']['weather'][0]['date']\n"
   ]
  },
  {
   "cell_type": "code",
   "execution_count": 174,
   "metadata": {},
   "outputs": [],
   "source": [
    "\n",
    "maxtempC = data['data']['weather'][0]['maxtempC']\n",
    "mintempC = data['data']['weather'][0]['mintempC']\n",
    "totalSnow_cm = data['data']['weather'][0]['totalSnow_cm']\n",
    "\n"
   ]
  },
  {
   "cell_type": "code",
   "execution_count": 184,
   "metadata": {},
   "outputs": [
    {
     "data": {
      "text/plain": [
       "'Привет! Завтра (2019-10-11) температура воздуха будет колебаться от 10 С до 16 С. Время заката в 07:30 AM время восхода в 06:31 PM. Фаза луны: Прибывающая луна. Следующие выходные через 3 дня'"
      ]
     },
     "execution_count": 184,
     "metadata": {},
     "output_type": "execute_result"
    }
   ],
   "source": [
    "sunrise = data['data']['weather'][0]['astronomy'][0]['sunrise']\n",
    "sunset = data['data']['weather'][0]['astronomy'][0]['sunset']\n",
    "moon_phase = data['data']['weather'][0]['astronomy'][0]['moon_phase']\n",
    "\n",
    "def phase_translate(ph):\n",
    "    phases = {'New Moon': 'Новолуние', 'Waxing Crescent': 'Молодая луна ', 'First Quarter': 'Первая четверть', 'Waxing Gibbous': 'Прибывающая луна', 'Full Moon': 'Полнолуние', 'Waning Gibbous': 'Убывающая луна', 'Last Quarter': 'Последняя четверть ', 'Waning Crescent': 'Старая луна'}\n",
    "    return phases[ph]\n",
    "\n",
    "messege_text = \"\"\"Привет! Завтра ({}) температура воздуха будет колебаться от {} С до {} С. Время заката в {} время восхода в {}. Фаза луны: {}. {}\"\"\".format(tomorrow_date, mintempC, maxtempC, sunrise, sunset, phase_translate(moon_phase), next_holiday())\n",
    "\n"
   ]
  },
  {
   "cell_type": "code",
   "execution_count": null,
   "metadata": {},
   "outputs": [],
   "source": [
    "bot.send_message(chat_id='@AhimsaInfo', text=messege_text)"
   ]
  },
  {
   "cell_type": "code",
   "execution_count": null,
   "metadata": {},
   "outputs": [],
   "source": []
  },
  {
   "cell_type": "code",
   "execution_count": null,
   "metadata": {},
   "outputs": [],
   "source": []
  },
  {
   "cell_type": "code",
   "execution_count": null,
   "metadata": {},
   "outputs": [],
   "source": []
  }
 ],
 "metadata": {
  "kernelspec": {
   "display_name": "Python 3",
   "language": "python",
   "name": "python3"
  },
  "language_info": {
   "codemirror_mode": {
    "name": "ipython",
    "version": 3
   },
   "file_extension": ".py",
   "mimetype": "text/x-python",
   "name": "python",
   "nbconvert_exporter": "python",
   "pygments_lexer": "ipython3",
   "version": "3.7.3"
  }
 },
 "nbformat": 4,
 "nbformat_minor": 2
}
